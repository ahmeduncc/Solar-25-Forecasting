{
 "cells": [
  {
   "cell_type": "code",
   "execution_count": 2,
   "id": "d22397d2",
   "metadata": {},
   "outputs": [
    {
     "name": "stdout",
     "output_type": "stream",
     "text": [
      "Variable: Monthly Mean Total Sunspot Number\n",
      "Best Lag: 6\n",
      "Best Polynomial Degree: 2\n",
      "Best Metric (RMSE): 22.50808575629147\n",
      "\n",
      "Variable: Uncertainty\n",
      "Best Lag: 12\n",
      "Best Polynomial Degree: 1\n",
      "Best Metric (RMSE): 1.4833130138519453\n",
      "\n",
      "Variable: Observations\n",
      "Best Lag: 11\n",
      "Best Polynomial Degree: 1\n",
      "Best Metric (RMSE): 69.0905202977891\n",
      "\n"
     ]
    },
    {
     "data": {
      "image/png": "[encoded data removed]",
      "text/plain": [
       "<Figure size 720x432 with 1 Axes>"
      ]
     },
     "metadata": {
      "needs_background": "light"
     },
     "output_type": "display_data"
    }
   ],
   "source": [
    "import pandas as pd\n",
    "import numpy as np\n",
    "import matplotlib.pyplot as plt\n",
    "from sklearn.metrics import mean_squared_error\n",
    "from sklearn.preprocessing import MinMaxScaler\n",
    "from sklearn.linear_model import LinearRegression\n",
    "from sklearn.preprocessing import PolynomialFeatures\n",
    "\n",
    "\n",
    "# Load the data\n",
    "data = pd.read_csv('C:/Users/Storm/Downloads/SN_m_tot_V2.0.csv', delimiter=';', header=None)\n",
    "data.columns = ['Year', 'Month', 'Date', 'Monthly Mean Total Sunspot Number', 'Uncertainty', 'Observations', 'Definitive/Provisional']\n",
    "\n",
    "# Select the variables to investigate\n",
    "variables_to_investigate = ['Monthly Mean Total Sunspot Number', 'Uncertainty', 'Observations']\n",
    "\n",
    "# Define the lag range and polynomial degrees to explore\n",
    "lag_range = range(1, 13)\n",
    "poly_degrees = range(1, 6)\n",
    "\n",
    "# Initialize lists to store the best lag and polynomial degree for each variable\n",
    "best_lags = []\n",
    "best_poly_degrees = []\n",
    "\n",
    "# Iterate over each variable\n",
    "for variable in variables_to_investigate:\n",
    "    target = data[variable].values.reshape(-1, 1)\n",
    "\n",
    "    # Normalize the target variable\n",
    "    scaler = MinMaxScaler(feature_range=(0, 1))\n",
    "    target_scaled = scaler.fit_transform(target)\n",
    "\n",
    "    # Initialize variables to store the best evaluation metric and corresponding lag and polynomial degree\n",
    "    best_metric = np.inf\n",
    "    best_lag = None\n",
    "    best_poly_degree = None\n",
    "\n",
    "    # Perform lag selection and polynomial degree selection\n",
    "    for lag in lag_range:\n",
    "        # Create lagged version of the target variable\n",
    "        lagged_target = pd.DataFrame(target_scaled, columns=['Target'])\n",
    "        for i in range(1, lag + 1):\n",
    "            lagged_target[f'Lag_{i}'] = lagged_target['Target'].shift(i)\n",
    "        lagged_target.dropna(inplace=True)\n",
    "\n",
    "        features = lagged_target.drop('Target', axis=1).values\n",
    "        target = lagged_target['Target'].values\n",
    "\n",
    "        # Iterate over polynomial degrees\n",
    "        for poly_degree in poly_degrees:\n",
    "            # Create polynomial features\n",
    "            poly_features = PolynomialFeatures(degree=poly_degree)\n",
    "            features_poly = poly_features.fit_transform(features)\n",
    "\n",
    "            # Split the data into training and testing sets\n",
    "            train_size = int(0.8 * len(features_poly))\n",
    "            train_features = features_poly[:train_size]\n",
    "            train_target = target[:train_size]\n",
    "            test_features = features_poly[train_size:]\n",
    "            test_target = target[train_size:]\n",
    "\n",
    "            # Train the linear regression model\n",
    "            model = LinearRegression()\n",
    "            model.fit(train_features, train_target)\n",
    "\n",
    "            # Make predictions\n",
    "            train_predictions = model.predict(train_features)\n",
    "            test_predictions = model.predict(test_features)\n",
    "\n",
    "            # Invert the scaling\n",
    "            train_predictions = scaler.inverse_transform(train_predictions.reshape(-1, 1))\n",
    "            train_target = scaler.inverse_transform(train_target.reshape(-1, 1))\n",
    "            test_predictions = scaler.inverse_transform(test_predictions.reshape(-1, 1))\n",
    "            test_target = scaler.inverse_transform(test_target.reshape(-1, 1))\n",
    "\n",
    "            # Calculate RMSE\n",
    "            metric = np.sqrt(mean_squared_error(test_target, test_predictions))\n",
    "\n",
    "            # Update the best metric and corresponding lag and polynomial degree if necessary\n",
    "            if metric < best_metric:\n",
    "                best_metric = metric\n",
    "                best_lag = lag\n",
    "                best_poly_degree = poly_degree\n",
    "\n",
    "    # Append the best lag and polynomial degree for the current variable\n",
    "    best_lags.append(best_lag)\n",
    "    best_poly_degrees.append(best_poly_degree)\n",
    "\n",
    "    # Print the results for the current variable\n",
    "    print(f\"Variable: {variable}\")\n",
    "    print(f\"Best Lag: {best_lag}\")\n",
    "    print(f\"Best Polynomial Degree: {best_poly_degree}\")\n",
    "    print(f\"Best Metric (RMSE): {best_metric}\")\n",
    "    print()\n",
    "\n",
    "# Plot the best lag and polynomial degree for each variable\n",
    "plt.figure(figsize=(10, 6))\n",
    "plt.bar(range(len(variables_to_investigate)), best_lags, label='Best Lag')\n",
    "plt.bar(range(len(variables_to_investigate)), best_poly_degrees, label='Best Polynomial Degree')\n",
    "plt.xticks(range(len(variables_to_investigate)), variables_to_investigate)\n",
    "plt.title('Best Lag and Polynomial Degree for Variables')\n",
    "plt.xlabel('Variables')\n",
    "plt.ylabel('Value')\n",
    "plt.legend()\n",
    "plt.show()\n"
   ]
  },
  {
   "cell_type": "code",
   "execution_count": null,
   "id": "a967e728",
   "metadata": {},
   "outputs": [],
   "source": []
  }
 ],
 "metadata": {
  "kernelspec": {
   "display_name": "Python 3 (ipykernel)",
   "language": "python",
   "name": "python3"
  },
  "language_info": {
   "codemirror_mode": {
    "name": "ipython",
    "version": 3
   },
   "file_extension": ".py",
   "mimetype": "text/x-python",
   "name": "python",
   "nbconvert_exporter": "python",
   "pygments_lexer": "ipython3",
   "version": "3.9.7"
  },
  "varInspector": {
   "cols": {
    "lenName": 16,
    "lenType": 16,
    "lenVar": 40
   },
   "kernels_config": {
    "python": {
     "delete_cmd_postfix": "",
     "delete_cmd_prefix": "del ",
     "library": "var_list.py",
     "varRefreshCmd": "print(var_dic_list())"
    },
    "r": {
     "delete_cmd_postfix": ") ",
     "delete_cmd_prefix": "rm(",
     "library": "var_list.r",
     "varRefreshCmd": "cat(var_dic_list()) "
    }
   },
   "types_to_exclude": [
    "module",
    "function",
    "builtin_function_or_method",
    "instance",
    "_Feature"
   ],
   "window_display": false
  }
 },
 "nbformat": 4,
 "nbformat_minor": 5
}
